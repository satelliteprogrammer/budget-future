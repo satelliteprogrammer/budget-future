{
 "cells": [
  {
   "cell_type": "markdown",
   "id": "e2cfdb3e",
   "metadata": {},
   "source": [
    "# YEAR 2022\n",
    "## Income"
   ]
  },
  {
   "cell_type": "code",
   "execution_count": 1,
   "id": "bf278f58",
   "metadata": {},
   "outputs": [
    {
     "name": "stdout",
     "output_type": "stream",
     "text": [
      "Gross income 1: 33096€ and 2: 26194€\n",
      "Best tax strategy is coupled\n",
      "After tax income is 43694.08€\n"
     ]
    }
   ],
   "source": [
    "from salaries import *\n",
    "\n",
    "person1 = Income(2134, 14, [0.1 * 2300 * 14 / 2]*2, (22 * 11 * 7.63))\n",
    "person2 = Income(1686, 14, [0.1 * 1850 * 14 / 2]*2, (22 * 11 * 7.63))\n",
    "both = Income(2134+1686, 14, [0.1 * (2300 + 1850) * 14 / 2]*2, (2 * 22 * 11 * 7.63), 2)\n",
    "\n",
    "print(f\"Gross income 1: {person1.gross()}€ and 2: {person2.gross()}€\")\n",
    "\n",
    "if (singles := person1.net() + person2.net()) > (coupled := both.net()):\n",
    "    income = singles\n",
    "    print(\"Best tax strategy is separated\")\n",
    "else:\n",
    "    income = coupled\n",
    "    print(\"Best tax strategy is coupled\")\n",
    "print(f\"After tax income is {income}€\")"
   ]
  },
  {
   "cell_type": "markdown",
   "id": "b51f432b",
   "metadata": {},
   "source": [
    "## Fixed Expenses"
   ]
  },
  {
   "cell_type": "code",
   "execution_count": 2,
   "id": "7c5948eb",
   "metadata": {},
   "outputs": [
    {
     "name": "stdout",
     "output_type": "stream",
     "text": [
      "19945€\n"
     ]
    }
   ],
   "source": [
    "rent = 700 * 12\n",
    "commute = 1400\n",
    "utilities = 2000\n",
    "health = 300\n",
    "groceries = 4500\n",
    "cleaning = 2625\n",
    "fitness = 720\n",
    "fixed = rent + commute + utilities + health + groceries + cleaning + fitness\n",
    "print(f\"{fixed}€\")"
   ]
  },
  {
   "cell_type": "markdown",
   "id": "11e4ddf6",
   "metadata": {},
   "source": [
    "## Variable Expenses"
   ]
  },
  {
   "cell_type": "code",
   "execution_count": 3,
   "id": "412c059b",
   "metadata": {},
   "outputs": [
    {
     "name": "stdout",
     "output_type": "stream",
     "text": [
      "4068.90€\n"
     ]
    }
   ],
   "source": [
    "eatingout = 3000\n",
    "car = 900\n",
    "subscriptions = 79 + Decimal(\"89.90\")  # protonmail and continente deliveries\n",
    "variable = eatingout + car + subscriptions\n",
    "print(f\"{variable}€\")"
   ]
  },
  {
   "cell_type": "markdown",
   "id": "d42348d6",
   "metadata": {},
   "source": [
    "## Specific allocations"
   ]
  },
  {
   "cell_type": "code",
   "execution_count": 4,
   "id": "a7c18a68",
   "metadata": {},
   "outputs": [
    {
     "name": "stdout",
     "output_type": "stream",
     "text": [
      "8400€\n"
     ]
    }
   ],
   "source": [
    "# we allocated each 75€ monthly for free spending\n",
    "alloc1 = 900\n",
    "alloc2 = 900\n",
    "\n",
    "home = 300\n",
    "entertainment = 300\n",
    "education = 0\n",
    "travel = 6000\n",
    "specific = alloc1 + alloc2 + home + entertainment + education + travel\n",
    "print(f\"{specific}€\")"
   ]
  },
  {
   "cell_type": "markdown",
   "id": "f7f36e07",
   "metadata": {},
   "source": [
    "## Giving"
   ]
  },
  {
   "cell_type": "code",
   "execution_count": 5,
   "id": "db169b93",
   "metadata": {},
   "outputs": [
    {
     "name": "stdout",
     "output_type": "stream",
     "text": [
      "873.88€\n"
     ]
    }
   ],
   "source": [
    "giving = (Decimal(\".02\") * income).quantize(Decimal(\"0.01\"))  # 2% of net income\n",
    "print(f\"{giving}€\")"
   ]
  },
  {
   "cell_type": "markdown",
   "id": "86a3d8a3",
   "metadata": {},
   "source": [
    "## Monthly effort"
   ]
  },
  {
   "cell_type": "code",
   "execution_count": 6,
   "id": "69f95a31",
   "metadata": {},
   "outputs": [
    {
     "name": "stdout",
     "output_type": "stream",
     "text": [
      "Minimum monthly income 2599.65€\n",
      "43694.08\n",
      "44568.16\n"
     ]
    },
    {
     "data": {
      "image/png": "[encoded data removed]",
      "text/plain": [
       "<Figure size 432x288 with 1 Axes>"
      ]
     },
     "metadata": {
      "needs_background": "light"
     },
     "output_type": "display_data"
    }
   ],
   "source": [
    "salaries = person1.netsalary() + person2.netsalary()\n",
    "print(f\"Minimum monthly income {salaries}€\")\n",
    "\n",
    "expenses = fixed + variable + specific + giving\n",
    "\n",
    "# 0-indexed!\n",
    "yincome = [salaries] * 12\n",
    "yincome[6] += salaries\n",
    "yincome[11] += salaries\n",
    "yincome[3] += person1.netbonus()[0] + person2.netbonus()[0]\n",
    "yincome[9] += person1.netbonus()[1] + person2.netbonus()[1]\n",
    "\n",
    "yexpenses = [Decimal((fixed + eatingout + entertainment + alloc1 + alloc2)/12)] * 12\n",
    "\n",
    "# car\n",
    "yexpenses[2] += 400\n",
    "yexpenses[5] += 100\n",
    "yexpenses[10] += 400\n",
    "# subscriptions\n",
    "yexpenses[1] += 79\n",
    "yexpenses[11] += Decimal(\"89.90\")\n",
    "\n",
    "yexpenses[6] += home + education\n",
    "\n",
    "# travel\n",
    "yexpenses[3] += 3000\n",
    "yexpenses[6] += 3000\n",
    "for m in range(0, 12):\n",
    "    if m == 3 and m == 6:\n",
    "        yincome[m] += 2 * 11 * Decimal(\"7.63\")\n",
    "    else:\n",
    "        yincome[m] += 2 * 22 * Decimal(\"7.63\")\n",
    "\n",
    "# giving\n",
    "yexpenses[11] += giving\n",
    "\n",
    "\n",
    "print(income)\n",
    "[print(sum(yincome))]\n",
    "assert sum(yexpenses).quantize(Decimal(\"0.01\")) == expenses\n",
    "\n",
    "graph = Graph(yincome, yexpenses)\n",
    "graph.plot()"
   ]
  },
  {
   "cell_type": "markdown",
   "id": "34a64721",
   "metadata": {},
   "source": [
    "## Investing"
   ]
  },
  {
   "cell_type": "code",
   "execution_count": 7,
   "id": "7a4dd0ac",
   "metadata": {},
   "outputs": [
    {
     "name": "stdout",
     "output_type": "stream",
     "text": [
      "Net income: 43694.08€, expenses: 33287.78€ leaving: 10406.30€\n"
     ]
    }
   ],
   "source": [
    "remaining = income - expenses\n",
    "print(f\"Net income: {income}€, expenses: {expenses}€ leaving: {remaining}€\")"
   ]
  },
  {
   "cell_type": "markdown",
   "id": "acf71d38",
   "metadata": {},
   "source": [
    "Given that the lowest point of the year will be January at well above 1k€, I say it's safe to invest ~500 € on a monthly basis. All the tax refund on April will also be invested."
   ]
  },
  {
   "cell_type": "code",
   "execution_count": 8,
   "id": "cfe1ed42",
   "metadata": {},
   "outputs": [
    {
     "data": {
      "image/png": "[encoded data removed]",
      "text/plain": [
       "<Figure size 432x288 with 1 Axes>"
      ]
     },
     "metadata": {
      "needs_background": "light"
     },
     "output_type": "display_data"
    },
    {
     "name": "stdout",
     "output_type": "stream",
     "text": [
      "Invested 10000€\n"
     ]
    }
   ],
   "source": [
    "yinvested = [400] * 12\n",
    "yinvested[8] += 1000\n",
    "yinvested[9] += 1200\n",
    "yinvested[10] += 1000\n",
    "yinvested[11] += 2000\n",
    "graph = Graph(yincome, yexpenses, yinvested)\n",
    "graph.plot()\n",
    "print(f\"Invested {sum(yinvested)}€\")"
   ]
  },
  {
   "cell_type": "markdown",
   "id": "d47f7ea4",
   "metadata": {},
   "source": [
    "## IRS return "
   ]
  }
 ],
 "metadata": {
  "interpreter": {
   "hash": "432a08f66bb3758eddf8fc31cab30d5dfcb2913443f7ab3cffcd6a90e40828a1"
  },
  "kernelspec": {
   "display_name": "Python 3.9.7 64-bit ('venv': venv)",
   "language": "python",
   "name": "python3"
  },
  "language_info": {
   "codemirror_mode": {
    "name": "ipython",
    "version": 3
   },
   "file_extension": ".py",
   "mimetype": "text/x-python",
   "name": "python",
   "nbconvert_exporter": "python",
   "pygments_lexer": "ipython3",
   "version": "3.9.7"
  }
 },
 "nbformat": 4,
 "nbformat_minor": 5
}
